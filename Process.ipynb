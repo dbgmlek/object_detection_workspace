{
 "cells": [
  {
   "cell_type": "markdown",
   "metadata": {
    "id": "ylqL1RpBoSxk"
   },
   "source": [
    "# Tensorflow Object Detection API\n",
    "- Tensorflow Object Detection API는 TensorFlow를 이용해서 Object Detection 모델을 train하고 deploy하는 것을 쉽게 도와주는 오픈소스 프레임워크.\n",
    "- https://github.com/tensorflow/models/tree/master/research/object_detection\n",
    "- Tutorial: https://tensorflow-object-detection-api-tutorial.readthedocs.io/en/latest/"
   ]
  },
  {
   "cell_type": "markdown",
   "metadata": {
    "id": "G6-VjDImoSxy"
   },
   "source": [
    "# 전단계\n",
    "- 구글드라이브 연결\n",
    "- raw_data의 데이터압축파일을 VM local에 압축 푼다."
   ]
  },
  {
   "cell_type": "code",
   "execution_count": null,
   "metadata": {
    "colab": {
     "base_uri": "https://localhost:8080/"
    },
    "executionInfo": {
     "elapsed": 19447,
     "status": "ok",
     "timestamp": 1648541133602,
     "user": {
      "displayName": "김성환",
      "userId": "02802166581970122576"
     },
     "user_tz": -540
    },
    "id": "E7n4-g6Bqhe1",
    "outputId": "93b1fafe-b2e2-4323-8bed-13d1debcc8b6"
   },
   "outputs": [],
   "source": [
    "from google.colab import drive\n",
    "drive.mount('/content/drive')"
   ]
  },
  {
   "cell_type": "code",
   "execution_count": null,
   "metadata": {
    "executionInfo": {
     "elapsed": 15,
     "status": "ok",
     "timestamp": 1648541133604,
     "user": {
      "displayName": "김성환",
      "userId": "02802166581970122576"
     },
     "user_tz": -540
    },
    "id": "C08Vqr13oSxz"
   },
   "outputs": [],
   "source": [
    "# 데이터셋 압축을 풀 디렉토리 생성.\n",
    "!mkdir images"
   ]
  },
  {
   "cell_type": "code",
   "execution_count": null,
   "metadata": {
    "executionInfo": {
     "elapsed": 2539,
     "status": "ok",
     "timestamp": 1648541237761,
     "user": {
      "displayName": "김성환",
      "userId": "02802166581970122576"
     },
     "user_tz": -540
    },
    "id": "dOQCxQOstX5l"
   },
   "outputs": [],
   "source": [
    "from zipfile import ZipFile\n",
    "\n",
    "with ZipFile('/content/drive/MyDrive/object_detection/sign_language_letters/raw_data/american_sign_language_letters.zip') as zipFile:\n",
    "    zipFile.extractall('./images')"
   ]
  },
  {
   "cell_type": "code",
   "execution_count": null,
   "metadata": {
    "id": "6PrtUWwMoSx1"
   },
   "outputs": [],
   "source": [
    "# 리눅스 명령어로 풀기: 압축풀기 unzip 압축파일 -d 풀디렉토리\n",
    "# !unzip -q /content/drive/MyDrive/object_detection/sign_language_letters/raw_data/american_sign_language_letters.zip -d /content/images"
   ]
  },
  {
   "cell_type": "markdown",
   "metadata": {
    "id": "FazcaBJVoSx2"
   },
   "source": [
    "# Tensorflow Object Detection 2 API 설치\n",
    "1. clone \n",
    "    - `!git clone https://github.com/tensorflow/models.git`\n",
    "1. PYTHONPATH 환경설정에 models/research 추가  \n",
    "1. 필요 모듈 설치\n",
    "    - `!apt-get install -qq protobuf-compiler python-pil python-lxml python-tk`\n",
    "    - `!pip install -qq Cython contextlib2 pillow lxml matplotlib pycocotools`\n",
    "1. proto 파일 컴파일\n",
    "    - models/research 경로로 이동\n",
    "        - `%cd models/research`\n",
    "    - `!protoc object_detection/protos/*.proto --python_out=.`\n",
    "1. setup.py 를 이용해 필요한 모듈 추가 설치\n",
    "    - setup.py를 현재 디렉토리로 카피\n",
    "        - `!cp object_detection/packages/tf2/setup.py . `\n",
    "    - 설치\n",
    "        - `!python -m pip install . `\n",
    "    - 설치 확인 - 아래 스크립트 실행시 오류 없이 실행되면 설치 잘 된 것임.\n",
    "        - `!python object_detection/builders/model_builder_tf2_test.py`\n",
    "1. 원래 디렉토리로 이동\n",
    "    - `%cd ../..`        "
   ]
  },
  {
   "cell_type": "code",
   "execution_count": null,
   "metadata": {
    "colab": {
     "base_uri": "https://localhost:8080/"
    },
    "executionInfo": {
     "elapsed": 30551,
     "status": "ok",
     "timestamp": 1648541296758,
     "user": {
      "displayName": "김성환",
      "userId": "02802166581970122576"
     },
     "user_tz": -540
    },
    "id": "5jVMU0qfoSx4",
    "outputId": "ce68d5ec-e684-47fa-fba1-0289d42ec7c7"
   },
   "outputs": [],
   "source": [
    "# TFODA2 clone\n",
    "!git clone https://github.com/tensorflow/models.git"
   ]
  },
  {
   "cell_type": "code",
   "execution_count": null,
   "metadata": {
    "executionInfo": {
     "elapsed": 467,
     "status": "ok",
     "timestamp": 1648541299746,
     "user": {
      "displayName": "김성환",
      "userId": "02802166581970122576"
     },
     "user_tz": -540
    },
    "id": "NQfom_kloSx5"
   },
   "outputs": [],
   "source": [
    "# models/research를 PYTHONPATH 환경설정 잡기\n",
    "import os\n",
    "os.environ[\"PYTHONPATH\"] += ':/content/models/research'"
   ]
  },
  {
   "cell_type": "code",
   "execution_count": null,
   "metadata": {
    "colab": {
     "base_uri": "https://localhost:8080/"
    },
    "executionInfo": {
     "elapsed": 9307,
     "status": "ok",
     "timestamp": 1648541327580,
     "user": {
      "displayName": "김성환",
      "userId": "02802166581970122576"
     },
     "user_tz": -540
    },
    "id": "c5rjZTdZoSx7",
    "outputId": "61a688dd-0e89-4d68-e90c-2cd5636ccfa6"
   },
   "outputs": [],
   "source": [
    "#필요 모듈 설치\n",
    "!apt-get install -qq protobuf-compiler python-pil python-lxml python-tk"
   ]
  },
  {
   "cell_type": "code",
   "execution_count": null,
   "metadata": {
    "executionInfo": {
     "elapsed": 3545,
     "status": "ok",
     "timestamp": 1648541338019,
     "user": {
      "displayName": "김성환",
      "userId": "02802166581970122576"
     },
     "user_tz": -540
    },
    "id": "G1PXSJU2oSx7"
   },
   "outputs": [],
   "source": [
    "!pip install -qq Cython contextlib2 pillow lxml matplotlib pycocotools"
   ]
  },
  {
   "cell_type": "code",
   "execution_count": null,
   "metadata": {
    "colab": {
     "base_uri": "https://localhost:8080/"
    },
    "executionInfo": {
     "elapsed": 10,
     "status": "ok",
     "timestamp": 1648541341794,
     "user": {
      "displayName": "김성환",
      "userId": "02802166581970122576"
     },
     "user_tz": -540
    },
    "id": "yZTSj87CoSx8",
    "outputId": "c56daa8d-5aa2-4b27-a636-baf14c36ff04"
   },
   "outputs": [],
   "source": [
    "# .proto 파일들 컴파일\n",
    "# models/research 로 이동후 protoc 실행\n",
    "%cd models/research"
   ]
  },
  {
   "cell_type": "code",
   "execution_count": null,
   "metadata": {
    "executionInfo": {
     "elapsed": 412,
     "status": "ok",
     "timestamp": 1648541344881,
     "user": {
      "displayName": "김성환",
      "userId": "02802166581970122576"
     },
     "user_tz": -540
    },
    "id": "ARAnG7XdoSx8"
   },
   "outputs": [],
   "source": [
    "!protoc object_detection/protos/*.proto --python_out=."
   ]
  },
  {
   "cell_type": "code",
   "execution_count": null,
   "metadata": {
    "executionInfo": {
     "elapsed": 627,
     "status": "ok",
     "timestamp": 1648541350727,
     "user": {
      "displayName": "김성환",
      "userId": "02802166581970122576"
     },
     "user_tz": -540
    },
    "id": "48SHSC-4xpOc"
   },
   "outputs": [],
   "source": [
    "# setup.py를 이용해서 추가 패키지들 설치\n",
    "!cp object_detection/packages/tf2/setup.py ."
   ]
  },
  {
   "cell_type": "code",
   "execution_count": null,
   "metadata": {
    "colab": {
     "base_uri": "https://localhost:8080/"
    },
    "executionInfo": {
     "elapsed": 36195,
     "status": "ok",
     "timestamp": 1648541389139,
     "user": {
      "displayName": "김성환",
      "userId": "02802166581970122576"
     },
     "user_tz": -540
    },
    "id": "yVX8-VQqxpA8",
    "outputId": "e4f3eecd-15d8-4763-a59d-2895b983eda4"
   },
   "outputs": [],
   "source": [
    "!python -m pip install ."
   ]
  },
  {
   "cell_type": "code",
   "execution_count": null,
   "metadata": {
    "colab": {
     "base_uri": "https://localhost:8080/"
    },
    "executionInfo": {
     "elapsed": 570,
     "status": "ok",
     "timestamp": 1648541426343,
     "user": {
      "displayName": "김성환",
      "userId": "02802166581970122576"
     },
     "user_tz": -540
    },
    "id": "vSLcUeyPxovj",
    "outputId": "38a4cc1a-c7fc-4e79-fb92-f7d226c23ef8"
   },
   "outputs": [],
   "source": [
    "!pwd"
   ]
  },
  {
   "cell_type": "code",
   "execution_count": null,
   "metadata": {
    "colab": {
     "base_uri": "https://localhost:8080/"
    },
    "executionInfo": {
     "elapsed": 5,
     "status": "ok",
     "timestamp": 1648541427903,
     "user": {
      "displayName": "김성환",
      "userId": "02802166581970122576"
     },
     "user_tz": -540
    },
    "id": "4E67mGKEySmD",
    "outputId": "ab1371d7-96af-4112-8186-762f439b57ef"
   },
   "outputs": [],
   "source": [
    "%cd ../.."
   ]
  },
  {
   "cell_type": "code",
   "execution_count": null,
   "metadata": {
    "colab": {
     "base_uri": "https://localhost:8080/"
    },
    "executionInfo": {
     "elapsed": 33184,
     "status": "ok",
     "timestamp": 1648541466117,
     "user": {
      "displayName": "김성환",
      "userId": "02802166581970122576"
     },
     "user_tz": -540
    },
    "id": "2ing6NbZySit",
    "outputId": "c4d2ac20-4058-401a-b6e2-427c41324e9d"
   },
   "outputs": [],
   "source": [
    "# 설치 성공 여부 테스트\n",
    "!python models/research/object_detection/builders/model_builder_tf2_test.py"
   ]
  },
  {
   "cell_type": "code",
   "execution_count": null,
   "metadata": {
    "id": "X3hlHo7lySgL"
   },
   "outputs": [],
   "source": []
  },
  {
   "cell_type": "markdown",
   "metadata": {
    "id": "drKAt7ReoSx8"
   },
   "source": [
    "# 경로 설정\n",
    "- 자주 사용되는 경로를 문자열 변수로 정의"
   ]
  },
  {
   "cell_type": "code",
   "execution_count": null,
   "metadata": {
    "executionInfo": {
     "elapsed": 416,
     "status": "ok",
     "timestamp": 1648541485270,
     "user": {
      "displayName": "김성환",
      "userId": "02802166581970122576"
     },
     "user_tz": -540
    },
    "id": "cbO1WBBcoSx9"
   },
   "outputs": [],
   "source": [
    "import os\n",
    "\n",
    "BASE_PATH = \"/content/drive/MyDrive/object_detection/sign_language_letters/workspace\"\n",
    "SCRIPT_PATH = \"/content/drive/MyDrive/object_detection/sign_language_letters/scripts\" #util 스크립트 파일들이 있는 경로\n",
    "TF_OD_API_PATH = '/content/models' #TF object detection api2 설치 경로\n",
    "\n",
    "IMAGE_PATH = '/content/images' #이미지, annotation 파일 압축푼 경로\n",
    "\n",
    "LABEL_MAP_PATH = os.path.join(BASE_PATH, \"labelmap\") #라벨맵 설정파일 저장할 디렉토리\n",
    "LABELMAP_FILE_PATH = os.path.join(LABEL_MAP_PATH, 'label_map.pbtxt') #라벨맵 파일 경로\n",
    "\n",
    "#TFRecord 저장 디렉토리 - vm local\n",
    "TF_RECORD_PATH = '/content/tfrecord'\n",
    "os.makedirs(TF_RECORD_PATH, exist_ok=True) #디렉토리 생성\n",
    "\n",
    "MODEL_PATH = os.path.join(BASE_PATH, 'model') #전이학습한 모델을 저장할 경로.(checkpoint-weights)\n",
    "CHECK_POINT_PATH = os.path.join(MODEL_PATH, 'checkpoint') #학습한 weight 저장 경로\n",
    "EXPORT_MODEL_PATH = os.path.join(MODEL_PATH, 'export_model') # 학습한 모델 저장 경로.\n",
    "PIPELINE_CONFIG_PATH = os.path.join(MODEL_PATH, 'pipeline.config')#pipeline.config 설정파일 경로\n",
    "\n",
    "# 다운받은 Pretrained 모델을 저장할 경로\n",
    "PRE_TRAINED_MODEL_PATH = os.path.join(BASE_PATH, \"pre_trained_model\")"
   ]
  },
  {
   "cell_type": "markdown",
   "metadata": {
    "id": "dDQd3excoSx9"
   },
   "source": [
    "# Custom data 학습 시키기\n",
    "\n",
    "## 다음 세가지 작업이 필요\n",
    "<span style='font-weight:bold;font-size:1.3em'>1. Label Map 파일 생성</span>\n",
    "- 분류 하고자 하는 object의 class와 그 class id 를 pbtxt text 파일로 작성\n",
    "- `models\\research\\object_detection\\data`\n",
    "\n",
    "```\n",
    "item {\n",
    "  id: 1\n",
    "  name: 'aeroplane'\n",
    "}\n",
    "\n",
    "item {\n",
    "  id: 2\n",
    "  name: 'bicycle'\n",
    "}\n",
    "...\n",
    "```\n",
    "\n",
    "<span style='font-weight:bold;font-size:1.3em'>2. pipeline.config</span>\n",
    "- Model을 학습, 검증하기 위해 필요한 설정을 하는 파일\n",
    "- `models\\research\\object_detection\\samples\\configs`\n",
    "\n",
    "<span style='font-weight:bold;font-size:1.3em'>3. 학습/검증/테스트에 사용할 데이터셋을 TFRecord 로 구성</span>\n",
    "- 주요 데이터셋을 TFRecord로 생성하는 코드\n",
    "- `models\\research\\object_detection\\dataset_tools`"
   ]
  },
  {
   "cell_type": "markdown",
   "metadata": {
    "id": "r6GT9k7yoSx-"
   },
   "source": [
    "# 설정파일 설정 및 데이터셋 준비"
   ]
  },
  {
   "cell_type": "markdown",
   "metadata": {
    "id": "o09tonz_oSx-"
   },
   "source": [
    "# Label Map 생성\n",
    "- text(protocol buf 형식)\n",
    "- 직접 text editor를 이용해 작성\n",
    "- 코드로 생성\n",
    "\n",
    "### Label A ~ Z 를 LabelMap에 작성"
   ]
  },
  {
   "cell_type": "code",
   "execution_count": 1,
   "metadata": {
    "ExecuteTime": {
     "end_time": "2022-03-31T10:30:51.292050Z",
     "start_time": "2022-03-31T10:30:51.272070Z"
    },
    "colab": {
     "base_uri": "https://localhost:8080/"
    },
    "executionInfo": {
     "elapsed": 514,
     "status": "ok",
     "timestamp": 1648541510256,
     "user": {
      "displayName": "김성환",
      "userId": "02802166581970122576"
     },
     "user_tz": -540
    },
    "id": "eqFLQpynoSx_",
    "outputId": "5bb56066-4276-4c99-f4f7-ab954bc1b643"
   },
   "outputs": [
    {
     "data": {
      "text/plain": [
       "(26, 26)"
      ]
     },
     "execution_count": 1,
     "metadata": {},
     "output_type": "execute_result"
    }
   ],
   "source": [
    "names = list('ABCDEFGHIJKLMNOPQRSTUVWXYZ')\n",
    "ids = range(1,27)\n",
    "len(names), len(ids)"
   ]
  },
  {
   "cell_type": "code",
   "execution_count": null,
   "metadata": {
    "executionInfo": {
     "elapsed": 10,
     "status": "ok",
     "timestamp": 1648541512082,
     "user": {
      "displayName": "김성환",
      "userId": "02802166581970122576"
     },
     "user_tz": -540
    },
    "id": "L6EZcEphoSx_"
   },
   "outputs": [],
   "source": [
    "with open(LABELMAP_FILE_PATH, 'wt') as fw:\n",
    "    for name, id in zip(names, ids):\n",
    "        fw.write('item {\\n')  # item {엔터\n",
    "        fw.write(\"\\tname:'{}'\\n\".format(name)) #탭 name='A'엔터\n",
    "        fw.write(\"\\tid:{}\\n\".format(id)) #탭id=1엔터\n",
    "        fw.write(\"}\\n\") # }엔터"
   ]
  },
  {
   "cell_type": "markdown",
   "metadata": {
    "id": "vOpBsa_OoSx_"
   },
   "source": [
    "# TFRecord 생성\n",
    "- scripts/generate_tfrecord.py 사용\n",
    "- 옵션(command line argumnets)\n",
    "    - -x (--xml_dir) : annotation 파일들이 있는 경로\n",
    "    - -l (--labels_path) : LabelMap 파일 경로\n",
    "    - -o (--output_path) : tfrecord 파일 저장할 경로"
   ]
  },
  {
   "cell_type": "code",
   "execution_count": null,
   "metadata": {
    "colab": {
     "base_uri": "https://localhost:8080/",
     "height": 92
    },
    "executionInfo": {
     "elapsed": 430,
     "status": "ok",
     "timestamp": 1648541521723,
     "user": {
      "displayName": "김성환",
      "userId": "02802166581970122576"
     },
     "user_tz": -540
    },
    "id": "974HSlpRoSyA",
    "outputId": "8727263c-d876-4082-e2c1-b150ec95bfb8"
   },
   "outputs": [],
   "source": [
    "# train dataset의 tfrecord생성\n",
    "f\"!python {SCRIPT_PATH}/generate_tfrecord.py -x {IMAGE_PATH}/train  -l {LABELMAP_FILE_PATH} -o {TF_RECORD_PATH}/train.tfr\""
   ]
  },
  {
   "cell_type": "code",
   "execution_count": null,
   "metadata": {
    "colab": {
     "base_uri": "https://localhost:8080/"
    },
    "executionInfo": {
     "elapsed": 5001,
     "status": "ok",
     "timestamp": 1648541534765,
     "user": {
      "displayName": "김성환",
      "userId": "02802166581970122576"
     },
     "user_tz": -540
    },
    "id": "3nYzxRv6enFW",
    "outputId": "92873c4d-9ffa-427d-c18a-fd22be71a451"
   },
   "outputs": [],
   "source": []
  },
  {
   "cell_type": "code",
   "execution_count": null,
   "metadata": {
    "colab": {
     "base_uri": "https://localhost:8080/",
     "height": 91
    },
    "executionInfo": {
     "elapsed": 649,
     "status": "ok",
     "timestamp": 1648541562394,
     "user": {
      "displayName": "김성환",
      "userId": "02802166581970122576"
     },
     "user_tz": -540
    },
    "id": "tg36mHPBenAP",
    "outputId": "95a7920b-a9ab-4fc5-f72b-ea162305a208"
   },
   "outputs": [],
   "source": [
    "# test set tfrecord 생성\n",
    "f\"!python {SCRIPT_PATH}/generate_tfrecord.py -x {IMAGE_PATH}/test  -l {LABELMAP_FILE_PATH} -o {TF_RECORD_PATH}/test.tfr\""
   ]
  },
  {
   "cell_type": "code",
   "execution_count": null,
   "metadata": {
    "colab": {
     "base_uri": "https://localhost:8080/"
    },
    "executionInfo": {
     "elapsed": 3502,
     "status": "ok",
     "timestamp": 1648541574473,
     "user": {
      "displayName": "김성환",
      "userId": "02802166581970122576"
     },
     "user_tz": -540
    },
    "id": "gs2nAQlFem9j",
    "outputId": "a4a58130-28ad-4f17-8503-d158a14e3bd4"
   },
   "outputs": [],
   "source": []
  },
  {
   "cell_type": "code",
   "execution_count": null,
   "metadata": {
    "colab": {
     "base_uri": "https://localhost:8080/",
     "height": 92
    },
    "executionInfo": {
     "elapsed": 502,
     "status": "ok",
     "timestamp": 1648541603941,
     "user": {
      "displayName": "김성환",
      "userId": "02802166581970122576"
     },
     "user_tz": -540
    },
    "id": "cwZg6khDem64",
    "outputId": "2143f11b-9cb4-4be5-eaec-dd9abd9c354e"
   },
   "outputs": [],
   "source": [
    "# validation set tfrecord생성\n",
    "f\"!python {SCRIPT_PATH}/generate_tfrecord.py -x {IMAGE_PATH}/valid  -l {LABELMAP_FILE_PATH} -o {TF_RECORD_PATH}/valid.tfr\""
   ]
  },
  {
   "cell_type": "code",
   "execution_count": null,
   "metadata": {
    "colab": {
     "base_uri": "https://localhost:8080/"
    },
    "executionInfo": {
     "elapsed": 3725,
     "status": "ok",
     "timestamp": 1648541613818,
     "user": {
      "displayName": "김성환",
      "userId": "02802166581970122576"
     },
     "user_tz": -540
    },
    "id": "C8pPvehzem3g",
    "outputId": "e2bf902f-0a74-4086-e8a4-7d4ac1b29bd0"
   },
   "outputs": [],
   "source": []
  },
  {
   "cell_type": "code",
   "execution_count": null,
   "metadata": {
    "id": "ILn80n8Fem0m"
   },
   "outputs": [],
   "source": [
    "# tfrecord파일들을 google drive에 backup (복사)"
   ]
  },
  {
   "cell_type": "code",
   "execution_count": null,
   "metadata": {
    "executionInfo": {
     "elapsed": 387,
     "status": "ok",
     "timestamp": 1648541665455,
     "user": {
      "displayName": "김성환",
      "userId": "02802166581970122576"
     },
     "user_tz": -540
    },
    "id": "OJUr8BX-flM3"
   },
   "outputs": [],
   "source": [
    "!cp /content/tfrecord/*.tfr  /content/drive/MyDrive/object_detection/sign_language_letters/workspace/tfrecord"
   ]
  },
  {
   "cell_type": "code",
   "execution_count": null,
   "metadata": {
    "executionInfo": {
     "elapsed": 496,
     "status": "ok",
     "timestamp": 1648541668958,
     "user": {
      "displayName": "김성환",
      "userId": "02802166581970122576"
     },
     "user_tz": -540
    },
    "id": "wxc6ZB4qflAd"
   },
   "outputs": [],
   "source": [
    "# 구글드라이브의 tfrecord파일을 local vm으로 restore 하기\n",
    "!cp /content/drive/MyDrive/object_detection/sign_language_letters/workspace/tfrecord/*.tfr   /content/tfrecord"
   ]
  },
  {
   "cell_type": "markdown",
   "metadata": {
    "id": "9OcqYjaDoSyA"
   },
   "source": [
    "# Pretrained Model Download\n",
    "- Tensorflow object detection API는 MS COCO 2017 dataset으로 미리 학습시킨 다양한 Object Detection 모델을 제공한다.\n",
    "- tf2 detection Model Zoo: https://github.com/tensorflow/models/blob/master/research/object_detection/g3doc/tf2_detection_zoo.md\n",
    "- SSD MobileNet V2 FPNLite 320x320 다운로드\n",
    "    - 성능은 떨어지지만 학습속도가 빠르다."
   ]
  },
  {
   "cell_type": "code",
   "execution_count": null,
   "metadata": {
    "colab": {
     "base_uri": "https://localhost:8080/"
    },
    "executionInfo": {
     "elapsed": 2145,
     "status": "ok",
     "timestamp": 1648541685698,
     "user": {
      "displayName": "김성환",
      "userId": "02802166581970122576"
     },
     "user_tz": -540
    },
    "id": "mTiPGYmloSyB",
    "outputId": "fd178adb-dfa4-4a3b-f5b5-9266cc0587d5"
   },
   "outputs": [],
   "source": [
    "# wget url  : url의 파일을 다운로드\n",
    "!wget  http://download.tensorflow.org/models/object_detection/tf2/20200711/ssd_mobilenet_v2_fpnlite_320x320_coco17_tpu-8.tar.gz"
   ]
  },
  {
   "cell_type": "code",
   "execution_count": null,
   "metadata": {
    "colab": {
     "base_uri": "https://localhost:8080/",
     "height": 55
    },
    "executionInfo": {
     "elapsed": 394,
     "status": "ok",
     "timestamp": 1648541697564,
     "user": {
      "displayName": "김성환",
      "userId": "02802166581970122576"
     },
     "user_tz": -540
    },
    "id": "H2U6hP3HoSyB",
    "outputId": "6664f378-4cf3-40ae-e5ad-58f4c32aa08d"
   },
   "outputs": [],
   "source": [
    "# workspace/pre_trained_model 로 옮긴뒤 압축 풀기.\n",
    "# 옮기기. mv 옮길파일   옮길디렉토리\n",
    "f\"!mv ssd_mobilenet_v2_fpnlite_320x320_coco17_tpu-8.tar.gz {PRE_TRAINED_MODEL_PATH}\""
   ]
  },
  {
   "cell_type": "code",
   "execution_count": null,
   "metadata": {
    "executionInfo": {
     "elapsed": 381,
     "status": "ok",
     "timestamp": 1648541708258,
     "user": {
      "displayName": "김성환",
      "userId": "02802166581970122576"
     },
     "user_tz": -540
    },
    "id": "-8zCfR3ooSyB"
   },
   "outputs": [],
   "source": []
  },
  {
   "cell_type": "code",
   "execution_count": null,
   "metadata": {
    "colab": {
     "base_uri": "https://localhost:8080/",
     "height": 73
    },
    "executionInfo": {
     "elapsed": 6,
     "status": "ok",
     "timestamp": 1648541713596,
     "user": {
      "displayName": "김성환",
      "userId": "02802166581970122576"
     },
     "user_tz": -540
    },
    "id": "uL-x-AnAigBH",
    "outputId": "32f35358-ff21-484f-ed25-53a388e9caaf"
   },
   "outputs": [],
   "source": [
    "# 압축풀기  tar -zxvf 앞축파일 -C 압축풀디렉토리\n",
    "f\"!tar -zxvf  {PRE_TRAINED_MODEL_PATH}/ssd_mobilenet_v2_fpnlite_320x320_coco17_tpu-8.tar.gz  \\\n",
    "-C  {PRE_TRAINED_MODEL_PATH}\""
   ]
  },
  {
   "cell_type": "code",
   "execution_count": null,
   "metadata": {
    "colab": {
     "base_uri": "https://localhost:8080/"
    },
    "executionInfo": {
     "elapsed": 1481,
     "status": "ok",
     "timestamp": 1648541722621,
     "user": {
      "displayName": "김성환",
      "userId": "02802166581970122576"
     },
     "user_tz": -540
    },
    "id": "ENB_z-Qqif9_",
    "outputId": "063c4ee6-bee5-426c-8958-dd7efb688b37"
   },
   "outputs": [],
   "source": []
  },
  {
   "cell_type": "markdown",
   "metadata": {
    "id": "094iCgY9oSyB"
   },
   "source": [
    "# Pipeline.config 설정 변경"
   ]
  },
  {
   "cell_type": "markdown",
   "metadata": {
    "id": "0Vr89u5VoSyB"
   },
   "source": [
    "## pipeline.config  파일 개요\n",
    "- Model을 학습, 검증하기 위해 필요한 설정을 하는 파일\n",
    "- 구조\n",
    "    - https://github.com/tensorflow/models/blob/master/research/object_detection/g3doc/configuring_jobs.md\n",
    "    - **model**\n",
    "        - 사용하는 모델에 대한 설정\n",
    "        - class 개수\n",
    "        - 입력이미지 size\n",
    "        - anchor 설정\n",
    "    - **train_config**\n",
    "        - Train(학습)관련 설정\n",
    "        - batch_size\n",
    "            - 사용하는 GPU의 메모리 크기에 맞게 조절한다.\n",
    "        - image augmentation관련 설정 등\n",
    "        - optimizer관련 설정\n",
    "        - 학습에 사용할 weight 파일의 경로\n",
    "    - **train_input_reader**\n",
    "        - labelmap 파일 경로\n",
    "        - train tfrecord 파일 경로\n",
    "    - **eval_config**\n",
    "        - evaluation(평가)을 위해 사용하는 metric 설정\n",
    "    - **eval_input_reader**\n",
    "        - labelmap 파일 경로\n",
    "        - evaluation tfreord 파일 경로\n",
    "        "
   ]
  },
  {
   "cell_type": "markdown",
   "metadata": {
    "id": "cQXIQcGOoSyC"
   },
   "source": [
    "## Pretrain model의 pipeline.config 파일 카피\n",
    "- pretrained 모델의 압축을 풀면 pipeline.config 파일이 있다.\n",
    "- workspace\\model 로 copy 한다."
   ]
  },
  {
   "cell_type": "code",
   "execution_count": null,
   "metadata": {
    "colab": {
     "base_uri": "https://localhost:8080/",
     "height": 73
    },
    "executionInfo": {
     "elapsed": 400,
     "status": "ok",
     "timestamp": 1648541735119,
     "user": {
      "displayName": "김성환",
      "userId": "02802166581970122576"
     },
     "user_tz": -540
    },
    "id": "LvhUo9m2oSyC",
    "outputId": "07ef46bb-d302-40e6-d07c-5d2bd3ba31d6"
   },
   "outputs": [],
   "source": [
    "f'!cp {os.path.join(PRE_TRAINED_MODEL_PATH, \"ssd_mobilenet_v2_fpnlite_320x320_coco17_tpu-8\", \"pipeline.config\")} \\\n",
    " {PIPELINE_CONFIG_PATH}'"
   ]
  },
  {
   "cell_type": "code",
   "execution_count": null,
   "metadata": {
    "executionInfo": {
     "elapsed": 567,
     "status": "ok",
     "timestamp": 1648541743701,
     "user": {
      "displayName": "김성환",
      "userId": "02802166581970122576"
     },
     "user_tz": -540
    },
    "id": "7mNY0T3WoSyC"
   },
   "outputs": [],
   "source": []
  },
  {
   "cell_type": "markdown",
   "metadata": {
    "id": "c29fjVFioSyC"
   },
   "source": [
    "## pipeline.config 설정 변경\n",
    "- pipeline.config 내용 변경은 파일을 **직접 변경**할 수도 있고 **코드상에서 변경**할 수도 있다.\n",
    "\n",
    "### 필수 변경사항\n",
    "-  class개수 변경\n",
    "-  train 배치 사이즈 변경 - gpu 메모리 사양에 맞게 변경한다.\n",
    "-  pretrained model CHECKPOINT가 저장된 경로 설정\n",
    "-  pretrained model이 어떤 종류의 모델인지 설정\n",
    "-  train 관련 변경\n",
    "    -  labelmap 파일 경로 설정\n",
    "    -  train 용 tfrecord 파일 경로 지정\n",
    "-  evaluation 관련 변경\n",
    "    -  labelmap 파일 경로 설정\n",
    "    -  evaluation 용 tfrecord 파일 경로 지정"
   ]
  },
  {
   "cell_type": "code",
   "execution_count": null,
   "metadata": {
    "executionInfo": {
     "elapsed": 3246,
     "status": "ok",
     "timestamp": 1648541768341,
     "user": {
      "displayName": "김성환",
      "userId": "02802166581970122576"
     },
     "user_tz": -540
    },
    "id": "C9MuHZx_oSyD"
   },
   "outputs": [],
   "source": [
    "import tensorflow as tf\n",
    "from object_detection.utils import config_util\n",
    "from object_detection.protos import pipeline_pb2\n",
    "from google.protobuf import text_format"
   ]
  },
  {
   "cell_type": "code",
   "execution_count": null,
   "metadata": {
    "colab": {
     "base_uri": "https://localhost:8080/"
    },
    "executionInfo": {
     "elapsed": 413,
     "status": "ok",
     "timestamp": 1648541770951,
     "user": {
      "displayName": "김성환",
      "userId": "02802166581970122576"
     },
     "user_tz": -540
    },
    "id": "Lb79Bg50oSyD",
    "outputId": "b4e582ad-3722-46e7-968f-744b278fdc7e"
   },
   "outputs": [],
   "source": [
    "# pipeline.config 파일을 읽어서 확인(수정과 상관없이 내용확인)\n",
    "config = config_util.get_configs_from_pipeline_file(PIPELINE_CONFIG_PATH)\n",
    "print(type(config))\n",
    "config"
   ]
  },
  {
   "cell_type": "code",
   "execution_count": null,
   "metadata": {
    "colab": {
     "base_uri": "https://localhost:8080/"
    },
    "executionInfo": {
     "elapsed": 450,
     "status": "ok",
     "timestamp": 1648541776401,
     "user": {
      "displayName": "김성환",
      "userId": "02802166581970122576"
     },
     "user_tz": -540
    },
    "id": "SHkUDNMhoSyD",
    "outputId": "ddf82010-8ae4-460a-b64c-7a1634505a20"
   },
   "outputs": [],
   "source": [
    "# 빈 pipeline.config를 생성\n",
    "pipeline_config = pipeline_pb2.TrainEvalPipelineConfig()\n",
    "print(type(pipeline_config))\n",
    "print(pipeline_config)"
   ]
  },
  {
   "cell_type": "code",
   "execution_count": null,
   "metadata": {
    "executionInfo": {
     "elapsed": 473,
     "status": "ok",
     "timestamp": 1648541793480,
     "user": {
      "displayName": "김성환",
      "userId": "02802166581970122576"
     },
     "user_tz": -540
    },
    "id": "WB9OV9DYuRmL"
   },
   "outputs": [],
   "source": [
    "# pipeline.config 를 text로 읽어서 빈 pipeline.config에 넣는다.\n",
    "with tf.io.gfile.GFile(PIPELINE_CONFIG_PATH, 'r') as fr: \n",
    "    proto_str = fr.read()\n",
    "    text_format.Merge(proto_str, pipeline_config)"
   ]
  },
  {
   "cell_type": "code",
   "execution_count": null,
   "metadata": {
    "colab": {
     "base_uri": "https://localhost:8080/"
    },
    "executionInfo": {
     "elapsed": 7,
     "status": "ok",
     "timestamp": 1648541796939,
     "user": {
      "displayName": "김성환",
      "userId": "02802166581970122576"
     },
     "user_tz": -540
    },
    "id": "uqmUBXSkuRjv",
    "outputId": "a4ed72c9-5c4c-4dc8-b6f2-aef70be1802c"
   },
   "outputs": [],
   "source": [
    "print(pipeline_config)"
   ]
  },
  {
   "cell_type": "code",
   "execution_count": null,
   "metadata": {
    "executionInfo": {
     "elapsed": 387,
     "status": "ok",
     "timestamp": 1648541813731,
     "user": {
      "displayName": "김성환",
      "userId": "02802166581970122576"
     },
     "user_tz": -540
    },
    "id": "DXgS6TV8uReX"
   },
   "outputs": [],
   "source": [
    "# 설정 값 변경\n",
    "# 설정 계층구조에 맞게  . 표기법을 이용해 접근한다. \n",
    "\n",
    "# 검출해야 하는 object 개수를 변경\n",
    "pipeline_config.model.ssd.num_classes = 26 \n",
    "# 배치 size를 변경 - gpu 메모리에 맞춰서 최대한 크게 잡아준다.\n",
    "pipeline_config.train_config.batch_size = 8\n",
    "# Pretrained 모델의 checkpoint 파일(weight) 경로 지정 \n",
    "pipeline_config.train_config.fine_tune_checkpoint = os.path.join(PRE_TRAINED_MODEL_PATH, \"ssd_mobilenet_v2_fpnlite_320x320_coco17_tpu-8\", \"checkpoint\", \"ckpt-0\")\n",
    "# Pretrained 모델이 어떤 종류를 학습한 모델인지 설정\n",
    "pipeline_config.train_config.fine_tune_checkpoint_type = 'detection' #object detection\n",
    "\n",
    "# train_input_reader 설정\n",
    "# LabelMap 파일 경로 설정\n",
    "pipeline_config.train_input_reader.label_map_path = LABELMAP_FILE_PATH\n",
    "# train.tfr 경로 설정\n",
    "pipeline_config.train_input_reader.tf_record_input_reader.input_path[:] = [os.path.join(TF_RECORD_PATH, 'train.tfr')]\n",
    "\n",
    "## eval_input_reader 설정\n",
    "# Label Map 파일 경로 설정\n",
    "pipeline_config.eval_input_reader[0].label_map_path = LABELMAP_FILE_PATH\n",
    "# test.tfr 경로 설정\n",
    "pipeline_config.eval_input_reader[0].tf_record_input_reader.input_path[:] = [os.path.join(TF_RECORD_PATH, 'test.tfr')]"
   ]
  },
  {
   "cell_type": "code",
   "execution_count": null,
   "metadata": {
    "colab": {
     "base_uri": "https://localhost:8080/"
    },
    "executionInfo": {
     "elapsed": 404,
     "status": "ok",
     "timestamp": 1648541820460,
     "user": {
      "displayName": "김성환",
      "userId": "02802166581970122576"
     },
     "user_tz": -540
    },
    "id": "WkXccpqhoSyE",
    "outputId": "51e5cd87-05e1-4d9b-dd6b-c9d43afb0bbc"
   },
   "outputs": [],
   "source": [
    "# TrainEvalPipelineConfig의 변경된 설정을 파일에 쓰기\n",
    "config_txt = text_format.MessageToString(pipeline_config) #TrainEvalPipelineConfig객체의 내용을 string으로 변환\n",
    "print(type(config_txt))\n",
    "print(config_txt)\n",
    "with tf.io.gfile.GFile(PIPELINE_CONFIG_PATH, \"wb\") as fw:\n",
    "    fw.write(config_txt)"
   ]
  },
  {
   "cell_type": "code",
   "execution_count": null,
   "metadata": {
    "id": "zJx4zGyPoSyE"
   },
   "outputs": [],
   "source": []
  },
  {
   "cell_type": "markdown",
   "metadata": {
    "id": "Qi917u6BoSyE"
   },
   "source": [
    "# Model 학습\n",
    "- 다음 명령어를 실행한다.\n",
    "> - 개인컴퓨터에서 할 경우 시간이 오래 걸리므로 terminal에서 실행한다.\n",
    "\n",
    "\n",
    "```\n",
    "python models/research/object_detection/model_main_tf2.py --model_dir=workspace/model/checkpoint --pipeline_config_path=workspace/model/pipeline.config --num_train_steps=3000\n",
    "```\n",
    "\n",
    "## 옵션\n",
    "- model_dir: 학습한 모델의 checkpoint 파일을 저장할 경로. (1000 step당 저장한다.)\n",
    "- pipeline_config_path: pipeline.config 파일 경로\n",
    "- num_train_steps: 학습할 step 수"
   ]
  },
  {
   "cell_type": "code",
   "execution_count": null,
   "metadata": {
    "colab": {
     "base_uri": "https://localhost:8080/",
     "height": 92
    },
    "executionInfo": {
     "elapsed": 16,
     "status": "ok",
     "timestamp": 1648541835510,
     "user": {
      "displayName": "김성환",
      "userId": "02802166581970122576"
     },
     "user_tz": -540
    },
    "id": "V3g5FQfzoSyF",
    "outputId": "574d4d9e-2c06-4e1d-f665-dbea1252ce43"
   },
   "outputs": [],
   "source": [
    "f'!python {os.path.join(TF_OD_API_PATH, \"research\",\"object_detection\", \"model_main_tf2.py\")}\\\n",
    "  --model_dir={CHECK_POINT_PATH}\\\n",
    "  --pipeline_config_path={PIPELINE_CONFIG_PATH}\\\n",
    "  --num_train_steps=1000'"
   ]
  },
  {
   "cell_type": "code",
   "execution_count": null,
   "metadata": {
    "colab": {
     "base_uri": "https://localhost:8080/"
    },
    "executionInfo": {
     "elapsed": 258017,
     "status": "ok",
     "timestamp": 1648542646381,
     "user": {
      "displayName": "김성환",
      "userId": "02802166581970122576"
     },
     "user_tz": -540
    },
    "id": "cAGo3p3poSyG",
    "outputId": "a33ce556-3064-4304-c39f-a06b75fb456c"
   },
   "outputs": [],
   "source": []
  },
  {
   "cell_type": "markdown",
   "metadata": {
    "id": "vfd8KOigoSyG"
   },
   "source": [
    "# 학습한 모델 추출(export)\n",
    "- `models/research/object_detection/exporter_main_v2.py` 사용\n",
    "- 옵션\n",
    "    - `exporter_main_v2.py --helpshort || exporter_main_v2.py --helpfull`\n",
    "    - input_type : input node type\n",
    "        - image_tensor, encoded_image_string_tensor\n",
    "    - train_checkpoint: 학습된 checkpoint 파일이 저장된 경로(folder/directory)\n",
    "    - pipeline_config_path: pipeline.config 파일의 경로 (파일명 포함)\n",
    "    - output_directory: export된 모델을 저장할 경로.\n",
    "- 추출된 디렉토리 구조\n",
    "```bash\n",
    "output_dir\n",
    "├─ checkpoint/\n",
    "├─ saved_model/\n",
    "└─ pipeline.config\n",
    "```\n",
    "    - checkpoint: custom data 학습한 checkpoint 파일들을 이 디렉토리로 복사한다.\n",
    "    - save_model: pipeline.config 설정에 맞춰 생성된 model\n",
    "    - pipeline.config: pipeline.config 설정파일"
   ]
  },
  {
   "cell_type": "code",
   "execution_count": null,
   "metadata": {
    "colab": {
     "base_uri": "https://localhost:8080/",
     "height": 129
    },
    "executionInfo": {
     "elapsed": 819,
     "status": "ok",
     "timestamp": 1648542774323,
     "user": {
      "displayName": "김성환",
      "userId": "02802166581970122576"
     },
     "user_tz": -540
    },
    "id": "4CXUwb2foSyG",
    "outputId": "d5e48da9-5e93-4b08-864c-26667f1cfcf4"
   },
   "outputs": [],
   "source": [
    "f\"!python {os.path.join(TF_OD_API_PATH, 'research', 'object_detection', 'exporter_main_v2.py')} \\\n",
    "--input_type=image_tensor  --trained_checkpoint_dir={CHECK_POINT_PATH}  \\\n",
    "--pipeline_config_path={PIPELINE_CONFIG_PATH} --output_directory={EXPORT_MODEL_PATH}\""
   ]
  },
  {
   "cell_type": "code",
   "execution_count": null,
   "metadata": {
    "colab": {
     "base_uri": "https://localhost:8080/"
    },
    "executionInfo": {
     "elapsed": 56566,
     "status": "ok",
     "timestamp": 1648542839108,
     "user": {
      "displayName": "김성환",
      "userId": "02802166581970122576"
     },
     "user_tz": -540
    },
    "id": "j0VtdPnMoSyG",
    "outputId": "1516b268-4f1e-4a3b-c8ab-d714b616a321"
   },
   "outputs": [],
   "source": []
  },
  {
   "cell_type": "markdown",
   "metadata": {
    "id": "M8PwVDZRoSyH"
   },
   "source": [
    "# Inference(추론)"
   ]
  },
  {
   "cell_type": "markdown",
   "metadata": {
    "id": "IkzNLLj-oSyH"
   },
   "source": [
    "### 사용 함수,메소드\n",
    "-  ### tf.convert_to_tensor(array_like, dtype)\n",
    "    - array_like 를 Tensoflow Tensor 객체로 변환\n",
    "    - `tf.convert_to_tensor([[1,2],[3,4]])`\n",
    "- ### detection_model.preprocess(image 4차원 ndarray)\n",
    "    - 전달받은 이미지를 model의 input shape에 맞게 resizing 한다.\n",
    "    - 반환값: (resize된 image Tensor, 이미지의 shape) 을 tuple로 반환\n",
    "- ### detection_model.predict(image tensor, image_shape tensor)\n",
    "    - 추론/detection 메소드\n",
    "    - 이미지와 image shape을 받아서 detection한 결과를 딕셔너리로 반환한다.\n",
    "    - **반환 dictionary key**\n",
    "        - **preprocessed_inputs**:  입력 이미지 Tensor. preprocess()로 처리된 이미지. \n",
    "        - **feature_maps**: List. feature map 들을 반환\n",
    "        - **anchors**: 2D Tensor. normalize 된 anchor box들의 좌표를 반환. 2-D float tensor: \\[num_anchors, 4\\]\n",
    "        - **final_anchors**: 3D Tensor. batch 당 anchors. (anchors에 batch가 포함된 것). \\[batch_size, num_anchors, 4\\]\n",
    "        - **box_encodings**: 3D float tensor. predict한 box들의 normalize된 좌표. \\[batch_size, num_anchors,box_code_dimension\\]\n",
    "        - **class_predictions_with_background**: 3D Tensor. 클래스 확률을 반환.(logit). \\[batch_size, num_anchors, num_classes+1]\\\n",
    "            - background 확률을 포함해서 num_classes+1개가 된다. (index 0: background)\n",
    "            \n",
    "- ### detection_model.postprocess(prediction_dict, shape)\n",
    "    - predict()가 예측한 결과에서 **Non-Maxinum Suppression**을 실행해서 최종 Detection 결과를 반환한다.\n",
    "        - predict()는 anchor별로 예측결과를 모아서 주고 post-process는 최종 결과를 추출해서 반환.\n",
    "    - **반환 dictionary key**\n",
    "        - **num_detections**: Detect한 개수 (bounding box 개수)\n",
    "        - **detection_boxes**: [batch, max_detections, 4]. 후처리한 detection box\n",
    "        - **detection_scores**: [batch, max_detections]. post-processed detection box들의 detection score들 (detection score는 box안에 물체가 있을 확률값 - confidence score).\n",
    "        - **detection_classes**: [batch, max_detections] tensor with classes for post-processed detection classes.\n",
    "        - **raw_detection_boxes**:[batch, total_detections, 4] Non-Max Suppression 하기 전의 감지된 box들\n",
    "        - **raw_detection_scores**: [batch, total_detections, num_classes_with_background]. raw detection box들의 class별 점수\n",
    "        - **detection_multiclass_scores**: [batch, max_detections, num_classes_with_background] post-processed이후 남은 bounding box 들의 class별 점수. LabelMap의 class에 background가 추가되어 계산된다.\n",
    "        - **detection_anchor_indices**: [batch, max_detections] post-processed 이후 나은 anchor box의 index들."
   ]
  },
  {
   "cell_type": "code",
   "execution_count": null,
   "metadata": {
    "executionInfo": {
     "elapsed": 17,
     "status": "ok",
     "timestamp": 1648542839109,
     "user": {
      "displayName": "김성환",
      "userId": "02802166581970122576"
     },
     "user_tz": -540
    },
    "id": "g4UyeBeKoSyI"
   },
   "outputs": [],
   "source": [
    "import os \n",
    "import cv2\n",
    "import numpy as np\n",
    "import matplotlib.pyplot as plt\n",
    "\n",
    "import tensorflow as tf\n",
    "from object_detection.utils import label_map_util # labelmap의 내용을 읽어오는 함수\n",
    "from object_detection.utils import visualization_utils as viz_utils #결과를 이미지에 출력하는 모듈\n",
    "from object_detection.utils import config_util #Pipeline.config loading\n",
    "from object_detection.builders import model_builder # pipeline.config를 이용해 모델 생성."
   ]
  },
  {
   "cell_type": "code",
   "execution_count": null,
   "metadata": {
    "id": "3j7fxYC4Lnhp"
   },
   "outputs": [],
   "source": [
    "!unzip -q /content/drive/MyDrive/object_detection_src/sign_language_letters/workspace/model/checkpoint2/sign_lang_50000_checkpoint.zip  -d  /content/drive/MyDrive/object_detection_src/sign_language_letters/workspace/model/checkpoint2"
   ]
  },
  {
   "cell_type": "code",
   "execution_count": null,
   "metadata": {
    "colab": {
     "base_uri": "https://localhost:8080/"
    },
    "executionInfo": {
     "elapsed": 466,
     "status": "ok",
     "timestamp": 1648542938201,
     "user": {
      "displayName": "김성환",
      "userId": "02802166581970122576"
     },
     "user_tz": -540
    },
    "id": "U4zt6jbLoSyI",
    "outputId": "8a642d38-a3f4-406a-ad2f-c849704db8bd"
   },
   "outputs": [],
   "source": [
    "CHECK_POINT_PATH = \"/content/drive/MyDrive/object_detection/sign_language_letters/workspace/model/checkpoint\"\n",
    "\n",
    "# pipeline.config를 이용해 model을 build (생성)\n",
    "\n",
    "# pipeline.config 읽어오기\n",
    "configs = config_util.get_configs_from_pipeline_file(PIPELINE_CONFIG_PATH)\n",
    "\n",
    "# config를 이용해서 모델을 생성\n",
    "detection_model = model_builder.build(model_config=configs['model'], is_training=False)\n",
    "print(type(detection_model))\n",
    "\n",
    "# 생성된 모델의 weight들을 학습한 weight들로 덮어쓰기.\n",
    "# 학습된 checkpoint(weight)를 loading\n",
    "ckpt = tf.compat.v2.train.Checkpoint(model=detection_model)\n",
    "ckpt.restore(os.path.join(CHECK_POINT_PATH, 'ckpt-2')).expect_partial()"
   ]
  },
  {
   "cell_type": "code",
   "execution_count": null,
   "metadata": {
    "executionInfo": {
     "elapsed": 486,
     "status": "ok",
     "timestamp": 1648542951747,
     "user": {
      "displayName": "김성환",
      "userId": "02802166581970122576"
     },
     "user_tz": -540
    },
    "id": "pJuS_8VsoSyI"
   },
   "outputs": [],
   "source": [
    "# 추론하는 함수\n",
    "# tensorflow 모델의 추론 속도를 빠르게 해 주는 decorator\n",
    "@tf.function  \n",
    "def detect_func(image):\n",
    "    \"\"\"\n",
    "    image(tensor)를 받아서 추론 후 그 결과를 반환하는 함수\n",
    "    1. preprocessing\n",
    "    2. predict \n",
    "    3. postprocessing -> 이결과를 반환\n",
    "    \"\"\"\n",
    "    image, shape = detection_model.preprocess(image) # input_shape으로 resize, 정규화: -1 ~ 1\n",
    "    pred = detection_model.predict(image, shape) #추론\n",
    "    result = detection_model.postprocess(pred, shape) #후처리한 최종 결과 반환\n",
    "    return result\n"
   ]
  },
  {
   "cell_type": "code",
   "execution_count": null,
   "metadata": {
    "colab": {
     "base_uri": "https://localhost:8080/"
    },
    "executionInfo": {
     "elapsed": 26379,
     "status": "ok",
     "timestamp": 1648543029826,
     "user": {
      "displayName": "김성환",
      "userId": "02802166581970122576"
     },
     "user_tz": -540
    },
    "id": "7q29VfS2oSyI",
    "outputId": "8073da90-7023-4a55-e02f-27c6472e9a55"
   },
   "outputs": [],
   "source": [
    "# image 로딩 -> Tensor 변환 - detect_func()이용해서 추론\n",
    "filepath = 'a.jpg'\n",
    "\n",
    "image_np = cv2.cvtColor(cv2.imread(filepath) , cv2.COLOR_BGR2RGB)\n",
    "input_tensor = tf.convert_to_tensor(image_np[np.newaxis,...], dtype=tf.float32)\n",
    "print(input_tensor.shape, input_tensor.dtype)\n",
    "pred = detect_func(input_tensor)"
   ]
  },
  {
   "cell_type": "code",
   "execution_count": null,
   "metadata": {
    "colab": {
     "base_uri": "https://localhost:8080/"
    },
    "executionInfo": {
     "elapsed": 409,
     "status": "ok",
     "timestamp": 1648543040045,
     "user": {
      "displayName": "김성환",
      "userId": "02802166581970122576"
     },
     "user_tz": -540
    },
    "id": "YSCZ-6iYoSyJ",
    "outputId": "1028907b-fc6a-473c-f91f-7559e3b2652a"
   },
   "outputs": [],
   "source": [
    "num_detections = int(pred.pop('num_detections'))\n",
    "num_detections"
   ]
  },
  {
   "cell_type": "code",
   "execution_count": null,
   "metadata": {
    "executionInfo": {
     "elapsed": 419,
     "status": "ok",
     "timestamp": 1648543043311,
     "user": {
      "displayName": "김성환",
      "userId": "02802166581970122576"
     },
     "user_tz": -540
    },
    "id": "IIuFvJKm9ycT"
   },
   "outputs": [],
   "source": [
    "detections = {key: value[0, :num_detections].numpy()  for key, value in pred.items()}\n",
    "\n",
    "detections['num_detections'] = num_detections"
   ]
  },
  {
   "cell_type": "code",
   "execution_count": null,
   "metadata": {
    "executionInfo": {
     "elapsed": 412,
     "status": "ok",
     "timestamp": 1648543049452,
     "user": {
      "displayName": "김성환",
      "userId": "02802166581970122576"
     },
     "user_tz": -540
    },
    "id": "2oqQwxb89yZU"
   },
   "outputs": [],
   "source": [
    "detections['detection_classes'] = detections['detection_classes'].astype(np.int64)"
   ]
  },
  {
   "cell_type": "code",
   "execution_count": null,
   "metadata": {
    "colab": {
     "base_uri": "https://localhost:8080/"
    },
    "executionInfo": {
     "elapsed": 443,
     "status": "ok",
     "timestamp": 1648543064950,
     "user": {
      "displayName": "김성환",
      "userId": "02802166581970122576"
     },
     "user_tz": -540
    },
    "id": "cRJ36gOmB9M1",
    "outputId": "95fe2af0-616a-4d34-a6f4-b16e5908fd60"
   },
   "outputs": [],
   "source": [
    "# labelmap.pbtxt 파일의 내용을 읽어오기.\n",
    "category_index = label_map_util.create_category_index_from_labelmap(LABELMAP_FILE_PATH)\n",
    "print(type(category_index))\n",
    "category_index"
   ]
  },
  {
   "cell_type": "code",
   "execution_count": null,
   "metadata": {
    "executionInfo": {
     "elapsed": 409,
     "status": "ok",
     "timestamp": 1648543069993,
     "user": {
      "displayName": "김성환",
      "userId": "02802166581970122576"
     },
     "user_tz": -540
    },
    "id": "j0z70lsq9yJ7"
   },
   "outputs": [],
   "source": [
    "# 검출한 결과를 원본 영상에 그리기 (bounding box, class label)\n",
    "MIN_CONF_THRESHOLD = 0.5 #detection_scores(confidence score) 가 지정한 값 이상인 bounding box만 그리기.\n",
    "img = viz_utils.visualize_boxes_and_labels_on_image_array(\n",
    "        image_np, # 원본 이미지\n",
    "        detections['detection_boxes'], # bounding box 좌표\n",
    "        detections['detection_classes'] + 1, # label\n",
    "        detections['detection_scores'], # confidence score\n",
    "        category_index, #label map \n",
    "        use_normalized_coordinates=True, # bounding box 좌표가 normalize됬는지 여부\n",
    "        max_boxes_to_draw=5, #이미지위에 최대 몇개의 bounding box를 그릴지\n",
    "        min_score_thresh = MIN_CONF_THRESHOLD # confidence score가 지정한 값 이상인 것만 그리기.\n",
    ")"
   ]
  },
  {
   "cell_type": "code",
   "execution_count": null,
   "metadata": {
    "colab": {
     "base_uri": "https://localhost:8080/"
    },
    "executionInfo": {
     "elapsed": 452,
     "status": "ok",
     "timestamp": 1648543076718,
     "user": {
      "displayName": "김성환",
      "userId": "02802166581970122576"
     },
     "user_tz": -540
    },
    "id": "do0j6Fq39yHH",
    "outputId": "bb5d9c0f-3b6c-44a4-e877-7b0ec0930a8c"
   },
   "outputs": [],
   "source": [
    "type(img), img.shape"
   ]
  },
  {
   "cell_type": "code",
   "execution_count": null,
   "metadata": {
    "executionInfo": {
     "elapsed": 3,
     "status": "ok",
     "timestamp": 1648543077158,
     "user": {
      "displayName": "김성환",
      "userId": "02802166581970122576"
     },
     "user_tz": -540
    },
    "id": "Hq5Vjhf1oSyK"
   },
   "outputs": [],
   "source": [
    "%matplotlib inline"
   ]
  },
  {
   "cell_type": "code",
   "execution_count": null,
   "metadata": {
    "colab": {
     "base_uri": "https://localhost:8080/",
     "height": 445
    },
    "executionInfo": {
     "elapsed": 1294,
     "status": "ok",
     "timestamp": 1648543079312,
     "user": {
      "displayName": "김성환",
      "userId": "02802166581970122576"
     },
     "user_tz": -540
    },
    "id": "ereCyRZqoSyK",
    "outputId": "44fccea6-0604-456d-a16a-4a4f738ff40a"
   },
   "outputs": [],
   "source": [
    "save_file_path = 'n_detect.jpg'\n",
    "plt.figure(figsize=(10,10))\n",
    "plt.imshow(img)\n",
    "plt.savefig(save_file_path) #저장\n",
    "plt.show()"
   ]
  },
  {
   "cell_type": "code",
   "execution_count": null,
   "metadata": {
    "colab": {
     "base_uri": "https://localhost:8080/"
    },
    "executionInfo": {
     "elapsed": 747,
     "status": "ok",
     "timestamp": 1648543085127,
     "user": {
      "displayName": "김성환",
      "userId": "02802166581970122576"
     },
     "user_tz": -540
    },
    "id": "jVdREnjMoSyK",
    "outputId": "cbbc1ac6-c78b-4673-96c2-3b6a98f1ea7d"
   },
   "outputs": [],
   "source": [
    "detections['detection_scores']"
   ]
  },
  {
   "cell_type": "code",
   "execution_count": null,
   "metadata": {
    "colab": {
     "base_uri": "https://localhost:8080/"
    },
    "executionInfo": {
     "elapsed": 454,
     "status": "ok",
     "timestamp": 1648543091881,
     "user": {
      "displayName": "김성환",
      "userId": "02802166581970122576"
     },
     "user_tz": -540
    },
    "id": "ywceskiaoSyK",
    "outputId": "0b48e07d-1e01-473f-e313-aaa523c8f089"
   },
   "outputs": [],
   "source": [
    "detections['detection_classes']"
   ]
  }
 ],
 "metadata": {
  "accelerator": "GPU",
  "colab": {
   "collapsed_sections": [
    "dDQd3excoSx9",
    "r6GT9k7yoSx-",
    "0Vr89u5VoSyB"
   ],
   "machine_shape": "hm",
   "name": "Process_ec6.ipynb",
   "provenance": []
  },
  "kernelspec": {
   "display_name": "Python 3 (ipykernel)",
   "language": "python",
   "name": "python3"
  },
  "language_info": {
   "codemirror_mode": {
    "name": "ipython",
    "version": 3
   },
   "file_extension": ".py",
   "mimetype": "text/x-python",
   "name": "python",
   "nbconvert_exporter": "python",
   "pygments_lexer": "ipython3",
   "version": "3.8.12"
  },
  "varInspector": {
   "cols": {
    "lenName": 16,
    "lenType": 16,
    "lenVar": 40
   },
   "kernels_config": {
    "python": {
     "delete_cmd_postfix": "",
     "delete_cmd_prefix": "del ",
     "library": "var_list.py",
     "varRefreshCmd": "print(var_dic_list())"
    },
    "r": {
     "delete_cmd_postfix": ") ",
     "delete_cmd_prefix": "rm(",
     "library": "var_list.r",
     "varRefreshCmd": "cat(var_dic_list()) "
    }
   },
   "types_to_exclude": [
    "module",
    "function",
    "builtin_function_or_method",
    "instance",
    "_Feature"
   ],
   "window_display": false
  }
 },
 "nbformat": 4,
 "nbformat_minor": 1
}
