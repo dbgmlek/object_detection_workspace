{
 "cells": [
  {
   "cell_type": "markdown",
   "metadata": {},
   "source": [
    "[Tensorflow Object Detection Tuturial](https://tensorflow-object-detection-api-tutorial.readthedocs.io/en/latest/training.html#)"
   ]
  },
  {
   "cell_type": "markdown",
   "metadata": {},
   "source": [
    "# Custom (Image) Data 구하기"
   ]
  },
  {
   "cell_type": "markdown",
   "metadata": {},
   "source": [
    "# Custom (Image) Data Labeling"
   ]
  },
  {
   "cell_type": "markdown",
   "metadata": {},
   "source": [
    "# 전단계\n",
    "- 구글드라이브 연결\n",
    "- 상대경로로 할 것이므로 Process.ipynb 있는 디렉토리로 이동\n",
    "- workspace/images 에 이미지 데이터셋 넣고 압축 푼다. "
   ]
  },
  {
   "cell_type": "code",
   "execution_count": null,
   "metadata": {},
   "outputs": [],
   "source": []
  },
  {
   "cell_type": "code",
   "execution_count": null,
   "metadata": {},
   "outputs": [],
   "source": []
  },
  {
   "cell_type": "markdown",
   "metadata": {},
   "source": [
    "# Tensorflow Object Detection 2 API 설치\n",
    "1. clone \n",
    "    - `!git clone https://github.com/tensorflow/models.git`\n",
    "1. PYTHONPATH 환경설정에 models/research 추가  \n",
    "1. 필요 모듈 설치\n",
    "    - `!apt-get install -qq protobuf-compiler python-pil python-lxml python-tk`\n",
    "    - `!pip install -qq Cython contextlib2 pillow lxml matplotlib pycocotools`\n",
    "1. proto 파일 컴파일\n",
    "    - models/research 경로로 이동\n",
    "        - `%cd models/research`\n",
    "    - `protoc .object_detection/protos/*.proto --python_out=.`\n",
    "1. setup.py 를 이용해 필요한 모듈 추가 설치\n",
    "    - setup.py를 현재 디렉토리로 카피\n",
    "        - `!cp object_detection/packages/tf2/setup.py . `\n",
    "    - 설치\n",
    "        - `!python -m pip install . `\n",
    "    - 설치 확인 - 아래 스크립트 실행시 오류 없이 실행되면 설치 잘 된 것임.\n",
    "        - `!python object_detection/builders/model_builder_tf2_test.py`\n",
    "1. 원래 디렉토리로 이동\n",
    "    - `%cd ../..`        "
   ]
  },
  {
   "cell_type": "code",
   "execution_count": null,
   "metadata": {},
   "outputs": [],
   "source": []
  },
  {
   "cell_type": "code",
   "execution_count": null,
   "metadata": {},
   "outputs": [],
   "source": []
  },
  {
   "cell_type": "code",
   "execution_count": null,
   "metadata": {},
   "outputs": [],
   "source": []
  },
  {
   "cell_type": "code",
   "execution_count": null,
   "metadata": {},
   "outputs": [],
   "source": []
  },
  {
   "cell_type": "code",
   "execution_count": null,
   "metadata": {},
   "outputs": [],
   "source": []
  },
  {
   "cell_type": "code",
   "execution_count": null,
   "metadata": {},
   "outputs": [],
   "source": []
  },
  {
   "cell_type": "code",
   "execution_count": null,
   "metadata": {},
   "outputs": [],
   "source": []
  },
  {
   "cell_type": "markdown",
   "metadata": {},
   "source": [
    "# 경로 설정"
   ]
  },
  {
   "cell_type": "code",
   "execution_count": null,
   "metadata": {},
   "outputs": [],
   "source": []
  },
  {
   "cell_type": "code",
   "execution_count": null,
   "metadata": {},
   "outputs": [],
   "source": []
  },
  {
   "cell_type": "markdown",
   "metadata": {},
   "source": [
    "# Label Map 생성"
   ]
  },
  {
   "cell_type": "code",
   "execution_count": null,
   "metadata": {},
   "outputs": [],
   "source": []
  },
  {
   "cell_type": "code",
   "execution_count": null,
   "metadata": {},
   "outputs": [],
   "source": []
  },
  {
   "cell_type": "markdown",
   "metadata": {},
   "source": [
    "# TFRecord 생성"
   ]
  },
  {
   "cell_type": "code",
   "execution_count": null,
   "metadata": {},
   "outputs": [],
   "source": []
  },
  {
   "cell_type": "code",
   "execution_count": null,
   "metadata": {},
   "outputs": [],
   "source": []
  },
  {
   "cell_type": "markdown",
   "metadata": {},
   "source": [
    "# Pretrained Model Download\n",
    "- tf2 detection Model Zoo: https://github.com/tensorflow/models/blob/master/research/object_detection/g3doc/tf2_detection_zoo.md\n",
    "- SSD MobileNet V2 FPNLite 320x320 다운로드\n",
    "    - 성능은 떨어지지만 학습속도가 빠르다."
   ]
  },
  {
   "cell_type": "code",
   "execution_count": null,
   "metadata": {},
   "outputs": [],
   "source": []
  },
  {
   "cell_type": "code",
   "execution_count": null,
   "metadata": {},
   "outputs": [],
   "source": []
  },
  {
   "cell_type": "markdown",
   "metadata": {},
   "source": [
    "# Model pipeline.config 파일 카피 및 설정 변경"
   ]
  },
  {
   "cell_type": "markdown",
   "metadata": {},
   "source": [
    "## Model pipeline.config 파일 카피\n",
    "- pretrained 모델의 압축을 풀면 pipeline.config 파일이 있다.\n",
    "- pipeline.config 설정파일\n",
    "    - 모델관련 설정\n",
    "    - Training 관련 설정\n",
    "- 이 파일을 workspace\\model 로 copy 한다."
   ]
  },
  {
   "cell_type": "code",
   "execution_count": null,
   "metadata": {},
   "outputs": [],
   "source": []
  },
  {
   "cell_type": "code",
   "execution_count": null,
   "metadata": {},
   "outputs": [],
   "source": []
  },
  {
   "cell_type": "markdown",
   "metadata": {},
   "source": [
    "## pipeline.config 설정 변경\n",
    "- pipeline.config 내용 변경은 파일을 **직접 변경**할 수도 있고 **코드상에서 변경**할 수도 있다.\n",
    "\n",
    "### 필수 변경사항\n",
    "-  class개수 변경\n",
    "-  train 배치 사이즈 변경 - gpu 메모리 사양에 맞게 변경한다.\n",
    "-  pretrained model 경로 설정\n",
    "-  pretrained model이 어떤 종류의 모델인지 설정\n",
    "-  train 관련 변경\n",
    "    -  labelmap 파일 경로 설정\n",
    "    -  train 용 tfrecord 파일 경로 지정\n",
    "-  evaluation 관련 변경\n",
    "    -  labelmap 파일 경로 설정\n",
    "    -  evaluation 용 tfrecord 파일 경로 지정"
   ]
  },
  {
   "cell_type": "code",
   "execution_count": null,
   "metadata": {},
   "outputs": [],
   "source": []
  },
  {
   "cell_type": "code",
   "execution_count": null,
   "metadata": {},
   "outputs": [],
   "source": []
  },
  {
   "cell_type": "code",
   "execution_count": null,
   "metadata": {},
   "outputs": [],
   "source": []
  },
  {
   "cell_type": "code",
   "execution_count": null,
   "metadata": {},
   "outputs": [],
   "source": []
  },
  {
   "cell_type": "code",
   "execution_count": null,
   "metadata": {},
   "outputs": [],
   "source": []
  },
  {
   "cell_type": "code",
   "execution_count": null,
   "metadata": {},
   "outputs": [],
   "source": []
  },
  {
   "cell_type": "markdown",
   "metadata": {},
   "source": [
    "# custom data를 이용한 Model 학습\n",
    "- 다음 명령어를 실행한다.\n",
    "- 시간이 오래 걸리므로 terminal에서 실행한다.\n",
    "```\n",
    "python models/research/object_detection/model_main_tf2.py --model_dir=workspace/model/checkpoint --pipeline_config_path=workspace/model/pipeline.config --num_train_steps=3000\n",
    "```\n",
    "\n",
    "## 옵션\n",
    "- model_dir: 학습한 모델의 checkpoint 파일을 저장할 경로. (1000 step당 저장한다.)\n",
    "- pipeline_config_path: pipeline.config 파일 경로\n",
    "- num_train_steps: 학습할 step 수"
   ]
  },
  {
   "cell_type": "code",
   "execution_count": null,
   "metadata": {},
   "outputs": [],
   "source": []
  },
  {
   "cell_type": "code",
   "execution_count": null,
   "metadata": {},
   "outputs": [],
   "source": []
  },
  {
   "cell_type": "markdown",
   "metadata": {},
   "source": [
    "# 학습한 모델 추출(export)\n",
    "- `models/research/object_detection/exporter_main_v2.py` 사용\n",
    "- 옵션\n",
    "    - `exporter_main_v2.py --helpshort || exporter_main_v2.py --helpfull`\n",
    "    - input_type : input node type\n",
    "        - image_tensor, encoded_image_string_tensor\n",
    "    - train_checkpoint: 학습된 checkpoint 파일이 저장된 경로(folder/directory)\n",
    "    - pipeline_config_path: pipeline.config 파일의 경로 (파일명 포함)\n",
    "    - output_directory: export된 모델을 저장할 경로.\n",
    "- 추출된 디렉토리 구조\n",
    "```bash\n",
    "output_dir\n",
    "├─ checkpoint/\n",
    "├─ save_model/\n",
    "└─ pipeline.config\n",
    "```\n",
    "    - checkpoint: custom data 학습한 checkpoint 파일들을 이 디렉토리로 복사한다.\n",
    "    - save_model: pipeline.config 설정에 맞춰 생성된 model\n",
    "    - pipeline.config: pipeline.config 설정파일"
   ]
  },
  {
   "cell_type": "code",
   "execution_count": null,
   "metadata": {},
   "outputs": [],
   "source": []
  },
  {
   "cell_type": "code",
   "execution_count": null,
   "metadata": {},
   "outputs": [],
   "source": []
  },
  {
   "cell_type": "code",
   "execution_count": null,
   "metadata": {},
   "outputs": [],
   "source": []
  },
  {
   "cell_type": "markdown",
   "metadata": {},
   "source": [
    "# Inference"
   ]
  },
  {
   "cell_type": "markdown",
   "metadata": {},
   "source": [
    "### 사용 함수,메소드\n",
    "-  ### tf.convert_to_tensor(array_like, dtype)\n",
    "    - array_like 를 Tensoflow Tensor 객체로 변환\n",
    "    - `tf.convert_to_tensor([[1,2],[3,4]])`\n",
    "- ### detection_model.preprocess(image 4차원 ndarray)\n",
    "    - 전달받은 이미지를 model의 input shape에 맞게 resizing 한다.\n",
    "    - 반환값: (resize된 image Tensor, 이미지의 shape) 을 tuple로 반환\n",
    "- ### detection_model.predict(image tensor, shape tensor)\n",
    "    - 추론/detection 메소드\n",
    "    - 이미지, image shape을 받아서 detection한 결과를 딕셔너리로 반환한다.\n",
    "    - 반환 dictionary key\n",
    "        - **preprocessed_inputs**:  입력 이미지 Tensor. preprocess()로 처리된 이미지. \n",
    "        - **feature_maps**: List. feature map 들을 반환\n",
    "        - **anchors**: 2D Tensor. normalize 된 anchor box들의 좌표를 반환. 2-D float tensor: \\[num_anchors, 4\\]\n",
    "        - **final_anchors**: 3D Tensor. batch 당 anchors. (anchors에 batch가 포함된 것). \\[batch_size, num_anchors, 4\\]\n",
    "        - **box_encodings**: 3D flost tensor. predict한 box들의 normalize된 좌표. \\[batch_size, num_anchors,box_code_dimension\\]\n",
    "        - **class_predictions_with_background**: 3D Tensor. 클래스 확률을 반환.(logit). \\[batch_size, num_anchors, num_classes+1]\\\n",
    "            - background 확률을 포함해서 num_classes+1개가 된다. (index 0: background)\n",
    "            \n",
    "- ### detection_model.postprocess(prediction_dict, shape)\n",
    "    - predict()가 예측한 결과 딕셔너리를 받아서 최종 Detection 결과를 반환한다.\n",
    "    - predict()는 anchor별로 예측결과를 모아서 주고 postprocess는 최종 결과를 추출해서 반환.\n",
    "    - 반환 dictionary key\n",
    "        - **num_detections**: Detect한 개수 (bounding box 개수)\n",
    "        - **detection_boxes**: [batch, max_detections, 4]. 후처리한 detection box\n",
    "        - **detection_scores**: [batch, max_detections]. post-processed detection box들의 scalar scores.\n",
    "        - **detection_classes**: [batch, max_detections] tensor with classes for post-processed detection classes.\n",
    "        - **raw_detection_boxes**:[batch, total_detections, 4] Non-Max Suppression 하기 전의 감지된 box들\n",
    "        - **raw_detection_scores**: [batch, total_detections, num_classes_with_background]. raw detection box들의 class별 점수\n",
    "        - **detection_multiclass_scores**: [batch, max_detections, num_classes_with_background] tensor with class score distribution for post-processed detection boxes including background class if any.\n",
    "        - **detection_anchor_indices**: [batch, max_detections] tensor with classes for post-processed detection classes."
   ]
  },
  {
   "cell_type": "code",
   "execution_count": null,
   "metadata": {},
   "outputs": [],
   "source": []
  },
  {
   "cell_type": "code",
   "execution_count": null,
   "metadata": {},
   "outputs": [],
   "source": []
  },
  {
   "cell_type": "code",
   "execution_count": null,
   "metadata": {},
   "outputs": [],
   "source": []
  },
  {
   "cell_type": "code",
   "execution_count": null,
   "metadata": {},
   "outputs": [],
   "source": []
  },
  {
   "cell_type": "code",
   "execution_count": null,
   "metadata": {},
   "outputs": [],
   "source": []
  },
  {
   "cell_type": "code",
   "execution_count": null,
   "metadata": {},
   "outputs": [],
   "source": []
  },
  {
   "cell_type": "code",
   "execution_count": null,
   "metadata": {},
   "outputs": [],
   "source": []
  },
  {
   "cell_type": "code",
   "execution_count": null,
   "metadata": {},
   "outputs": [],
   "source": []
  },
  {
   "cell_type": "code",
   "execution_count": null,
   "metadata": {},
   "outputs": [],
   "source": []
  }
 ],
 "metadata": {
  "kernelspec": {
   "display_name": "Python 3",
   "language": "python",
   "name": "python3"
  },
  "language_info": {
   "codemirror_mode": {
    "name": "ipython",
    "version": 3
   },
   "file_extension": ".py",
   "mimetype": "text/x-python",
   "name": "python",
   "nbconvert_exporter": "python",
   "pygments_lexer": "ipython3",
   "version": "3.8.5"
  }
 },
 "nbformat": 4,
 "nbformat_minor": 4
}
